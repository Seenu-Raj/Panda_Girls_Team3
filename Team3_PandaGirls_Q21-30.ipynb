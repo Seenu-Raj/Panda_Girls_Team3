{
 "cells": [
  {
   "cell_type": "code",
   "execution_count": 326,
   "id": "08230eb5",
   "metadata": {},
   "outputs": [],
   "source": [
    "import pandas as pd \n",
    "import numpy as np\n",
    "import matplotlib as mp\n",
    "import seaborn as sns\n",
    "import math\n",
    "import matplotlib.pyplot as plt\n",
    "from datetime import date\n",
    "from collections import Counter\n",
    "from datetime import timedelta\n",
    "\n",
    "Patients = pd.read_excel(\"HospitalDatabase.xlsx\",\"Patients\")\n",
    "EDVisits = pd.read_excel(\"HospitalDatabase.xlsx\",\"EDVisits\")\n",
    "AmbulatoryVisits = pd.read_excel(\"HospitalDatabase.xlsx\",\"AmbulatoryVisits\")\n",
    "ReAdmissionRegistry = pd.read_excel(\"HospitalDatabase.xlsx\",\"ReAdmissionRegistry\")\n",
    "Discharges = pd.read_excel(\"HospitalDatabase.xlsx\",\"Discharges\")\n",
    "Providers = pd.read_excel(\"HospitalDatabase.xlsx\",\"Providers\")\n",
    "EDUnique = pd.read_excel(\"HospitalDatabase.xlsx\",\"EDUnique\")\n",
    "Merged = pd.merge(Patients, Discharges, on=\"PatientID\")\n",
    "aMerged = pd.merge(EDVisits, Discharges, on=\"PatientID\")\n",
    "bMerged = pd.merge(EDUnique, Discharges, on=\"PatientID\")"
   ]
  },
  {
   "cell_type": "markdown",
   "id": "51bf6672",
   "metadata": {},
   "source": [
    "# Q21. Which demographic patients are prone to get stroke?"
   ]
  },
  {
   "cell_type": "code",
   "execution_count": 242,
   "id": "60510353",
   "metadata": {},
   "outputs": [
    {
     "name": "stdout",
     "output_type": "stream",
     "text": [
      "Race having maximum stroke patients:  White\n",
      "Language having maximum stroke patients:  Spanish\n",
      "Gender having maximum stroke patients:  Male\n"
     ]
    }
   ],
   "source": [
    "Demographic1 = Merged['Race'].where(Merged['PrimaryDiagnosis']=='Stroke').dropna().max()\n",
    "Demographic2 = Merged['Language'].where(Merged['PrimaryDiagnosis']=='Stroke').dropna().max()\n",
    "Demographic3 = Merged['Gender'].where(Merged['PrimaryDiagnosis']=='Stroke').dropna().max()\n",
    "print('Race having maximum stroke patients: ',Demographic1)\n",
    "print('Language having maximum stroke patients: ',Demographic2)\n",
    "print('Gender having maximum stroke patients: ',Demographic3)"
   ]
  },
  {
   "cell_type": "markdown",
   "id": "5b44ec03",
   "metadata": {},
   "source": [
    "# Q22. Create a dataframe with acuity and EDDisposition as the indices and the count of number of patients as the value."
   ]
  },
  {
   "cell_type": "code",
   "execution_count": 49,
   "id": "2f6ce84b",
   "metadata": {},
   "outputs": [
    {
     "data": {
      "text/html": [
       "<div>\n",
       "<style scoped>\n",
       "    .dataframe tbody tr th:only-of-type {\n",
       "        vertical-align: middle;\n",
       "    }\n",
       "\n",
       "    .dataframe tbody tr th {\n",
       "        vertical-align: top;\n",
       "    }\n",
       "\n",
       "    .dataframe thead th {\n",
       "        text-align: right;\n",
       "    }\n",
       "</style>\n",
       "<table border=\"1\" class=\"dataframe\">\n",
       "  <thead>\n",
       "    <tr style=\"text-align: right;\">\n",
       "      <th></th>\n",
       "      <th></th>\n",
       "      <th>PatientID</th>\n",
       "    </tr>\n",
       "    <tr>\n",
       "      <th>Acuity</th>\n",
       "      <th>EDDisposition</th>\n",
       "      <th></th>\n",
       "    </tr>\n",
       "  </thead>\n",
       "  <tbody>\n",
       "    <tr>\n",
       "      <th rowspan=\"2\" valign=\"top\">1</th>\n",
       "      <th>Admitted</th>\n",
       "      <td>32</td>\n",
       "    </tr>\n",
       "    <tr>\n",
       "      <th>Discharged</th>\n",
       "      <td>558</td>\n",
       "    </tr>\n",
       "    <tr>\n",
       "      <th rowspan=\"2\" valign=\"top\">2</th>\n",
       "      <th>Admitted</th>\n",
       "      <td>116</td>\n",
       "    </tr>\n",
       "    <tr>\n",
       "      <th>Discharged</th>\n",
       "      <td>66</td>\n",
       "    </tr>\n",
       "    <tr>\n",
       "      <th>3</th>\n",
       "      <th>Admitted</th>\n",
       "      <td>81</td>\n",
       "    </tr>\n",
       "    <tr>\n",
       "      <th rowspan=\"2\" valign=\"top\">4</th>\n",
       "      <th>Admitted</th>\n",
       "      <td>107</td>\n",
       "    </tr>\n",
       "    <tr>\n",
       "      <th>Discharged</th>\n",
       "      <td>30</td>\n",
       "    </tr>\n",
       "    <tr>\n",
       "      <th rowspan=\"2\" valign=\"top\">5</th>\n",
       "      <th>Admitted</th>\n",
       "      <td>179</td>\n",
       "    </tr>\n",
       "    <tr>\n",
       "      <th>Discharged</th>\n",
       "      <td>30</td>\n",
       "    </tr>\n",
       "  </tbody>\n",
       "</table>\n",
       "</div>"
      ],
      "text/plain": [
       "                      PatientID\n",
       "Acuity EDDisposition           \n",
       "1      Admitted              32\n",
       "       Discharged           558\n",
       "2      Admitted             116\n",
       "       Discharged            66\n",
       "3      Admitted              81\n",
       "4      Admitted             107\n",
       "       Discharged            30\n",
       "5      Admitted             179\n",
       "       Discharged            30"
      ]
     },
     "execution_count": 49,
     "metadata": {},
     "output_type": "execute_result"
    }
   ],
   "source": [
    "df = pd.read_excel('HospitalDatabase.xlsx', sheet_name = 'EDVisits', usecols = ['Acuity', 'EDDisposition', 'PatientID'])\n",
    "df.set_index(['Acuity', 'EDDisposition'])\n",
    "df.groupby(by = ['Acuity', 'EDDisposition']).count()"
   ]
  },
  {
   "cell_type": "markdown",
   "id": "42a3461b",
   "metadata": {},
   "source": [
    "# Q23. Write a function to find the center element in the list. (one element in odd length list,  two elements in even length list)."
   ]
  },
  {
   "cell_type": "code",
   "execution_count": 175,
   "id": "9551db14",
   "metadata": {},
   "outputs": [
    {
     "data": {
      "text/plain": [
       "4"
      ]
     },
     "execution_count": 175,
     "metadata": {},
     "output_type": "execute_result"
    }
   ],
   "source": [
    "def middle(a):\n",
    "    p=float(len(a)/2)\n",
    "    if p!=0:\n",
    "     return a[int(p-.5)]\n",
    "    else:\n",
    "     return a[int(p),int(p-1)]\n",
    "a=[1,2,4,5,6]\n",
    "middle(a)"
   ]
  },
  {
   "cell_type": "markdown",
   "id": "bfcbbc1f",
   "metadata": {},
   "source": [
    "# Q24. Get the number of patients based on ReasonForVisit and EDDisposition (use stack/unstack functions)."
   ]
  },
  {
   "cell_type": "code",
   "execution_count": 287,
   "id": "f2b8f26f",
   "metadata": {},
   "outputs": [
    {
     "data": {
      "text/plain": [
       "0   ReasonForVisit                Accident\n",
       "    EDDisposition                 Admitted\n",
       "    No. of patients                     39\n",
       "1   ReasonForVisit                Bleeding\n",
       "    EDDisposition                 Admitted\n",
       "    No. of patients                     16\n",
       "2   ReasonForVisit                Bleeding\n",
       "    EDDisposition               Discharged\n",
       "    No. of patients                     15\n",
       "3   ReasonForVisit            Car Accident\n",
       "    EDDisposition                 Admitted\n",
       "    No. of patients                     17\n",
       "4   ReasonForVisit              Chest Pain\n",
       "    EDDisposition                 Admitted\n",
       "    No. of patients                     94\n",
       "5   ReasonForVisit              Chest Pain\n",
       "    EDDisposition               Discharged\n",
       "    No. of patients                     15\n",
       "6   ReasonForVisit                   Cough\n",
       "    EDDisposition               Discharged\n",
       "    No. of patients                      1\n",
       "7   ReasonForVisit                   Fever\n",
       "    EDDisposition                 Admitted\n",
       "    No. of patients                     46\n",
       "8   ReasonForVisit                   Fever\n",
       "    EDDisposition               Discharged\n",
       "    No. of patients                    188\n",
       "9   ReasonForVisit                Gun Shot\n",
       "    EDDisposition                 Admitted\n",
       "    No. of patients                     16\n",
       "10  ReasonForVisit            Intoxication\n",
       "    EDDisposition               Discharged\n",
       "    No. of patients                     30\n",
       "11  ReasonForVisit              Laceration\n",
       "    EDDisposition               Discharged\n",
       "    No. of patients                     30\n",
       "12  ReasonForVisit                Migraine\n",
       "    EDDisposition                 Admitted\n",
       "    No. of patients                     47\n",
       "13  ReasonForVisit                Migraine\n",
       "    EDDisposition               Discharged\n",
       "    No. of patients                    109\n",
       "14  ReasonForVisit               Pneumonia\n",
       "    EDDisposition                 Admitted\n",
       "    No. of patients                    136\n",
       "15  ReasonForVisit               Pneumonia\n",
       "    EDDisposition               Discharged\n",
       "    No. of patients                     65\n",
       "16  ReasonForVisit     Shortness of Breath\n",
       "    EDDisposition                 Admitted\n",
       "    No. of patients                     72\n",
       "17  ReasonForVisit     Shortness of Breath\n",
       "    EDDisposition               Discharged\n",
       "    No. of patients                     77\n",
       "18  ReasonForVisit            Stomach Ache\n",
       "    EDDisposition                 Admitted\n",
       "    No. of patients                     32\n",
       "19  ReasonForVisit            Stomach Ache\n",
       "    EDDisposition               Discharged\n",
       "    No. of patients                    154\n",
       "dtype: object"
      ]
     },
     "metadata": {},
     "output_type": "display_data"
    }
   ],
   "source": [
    "#stack\n",
    "df = pd.read_excel('HospitalDatabase.xlsx', sheet_name = 'EDVisits')\n",
    "counts = df.groupby(['ReasonForVisit', 'EDDisposition']).size().reset_index(name='No. of patients')\n",
    "counts = counts.stack()\n",
    "counts.columns = ['ReasonForVisit', 'EDDisposition', 'No. of patients']\n",
    "display(counts)"
   ]
  },
  {
   "cell_type": "code",
   "execution_count": 107,
   "id": "a647ba51",
   "metadata": {
    "scrolled": true
   },
   "outputs": [
    {
     "name": "stdout",
     "output_type": "stream",
     "text": [
      "         ReasonForVisit EDDisposition No. of patients\n",
      "0              Accident      Admitted              39\n",
      "1              Bleeding      Admitted              16\n",
      "2              Bleeding    Discharged              15\n",
      "3          Car Accident      Admitted              17\n",
      "4            Chest Pain      Admitted              94\n",
      "5            Chest Pain    Discharged              15\n",
      "6                 Cough    Discharged               1\n",
      "7                 Fever      Admitted              46\n",
      "8                 Fever    Discharged             188\n",
      "9              Gun Shot      Admitted              16\n",
      "10         Intoxication    Discharged              30\n",
      "11           Laceration    Discharged              30\n",
      "12             Migraine      Admitted              47\n",
      "13             Migraine    Discharged             109\n",
      "14            Pneumonia      Admitted             136\n",
      "15            Pneumonia    Discharged              65\n",
      "16  Shortness of Breath      Admitted              72\n",
      "17  Shortness of Breath    Discharged              77\n",
      "18         Stomach Ache      Admitted              32\n",
      "19         Stomach Ache    Discharged             154\n"
     ]
    }
   ],
   "source": [
    "#stack and unstack\n",
    "df = pd.read_excel('HospitalDatabase.xlsx', sheet_name = 'EDVisits')\n",
    "counts = df.groupby(['ReasonForVisit', 'EDDisposition']).size().reset_index(name='No. of patients')\n",
    "counts = counts.stack()\n",
    "counts.columns = ['ReasonForVisit', 'EDDisposition', 'No. of patients']\n",
    "counts = counts.unstack()\n",
    "print(counts)"
   ]
  },
  {
   "cell_type": "markdown",
   "id": "a325cf8b",
   "metadata": {},
   "source": [
    "# Q25. Plot a graph by counting the no. of patients in each department."
   ]
  },
  {
   "cell_type": "code",
   "execution_count": 85,
   "id": "19aaa1d8",
   "metadata": {},
   "outputs": [
    {
     "data": {
      "image/png": "[encoded data removed]",
      "text/plain": [
       "<Figure size 1600x1200 with 1 Axes>"
      ]
     },
     "metadata": {},
     "output_type": "display_data"
    }
   ],
   "source": [
    "df = pd.read_excel('HospitalDatabase.xlsx', sheet_name = 'ReAdmissionRegistry')\n",
    "counts = df.groupby('Service').size().reset_index(name='count')\n",
    "fig, ax = plt.subplots(figsize =(16, 12))\n",
    "plt.bar(counts['Service'], counts['count'])\n",
    "ax.xaxis.set_ticks_position('none')\n",
    "ax.yaxis.set_ticks_position('none')\n",
    "ax.set_title('Number of patients in each department',\n",
    "             loc ='center', fontsize = 16, fontweight ='bold',\n",
    "             color ='Brown', )\n",
    "ax.set_ylabel('No. of patients', fontsize = 12)\n",
    "ax.set_xlabel('Department', fontsize = 12)\n",
    "ax.bar_label\n",
    "plt.show()"
   ]
  },
  {
   "cell_type": "markdown",
   "id": "4f9e156d",
   "metadata": {},
   "source": [
    "# Q26. Using arrays and loops, find the count of patients based on gender."
   ]
  },
  {
   "cell_type": "code",
   "execution_count": 303,
   "id": "b018e87e",
   "metadata": {},
   "outputs": [
    {
     "name": "stdout",
     "output_type": "stream",
     "text": [
      "Number of males: 537\n",
      "Number of females: 408\n"
     ]
    }
   ],
   "source": [
    "import openpyxl\n",
    "wb = openpyxl.load_workbook(r'C:\\Users\\Subha\\Documents\\GitHub\\Panda_Girls_Team3\\HospitalDatabase.xlsx')\n",
    "sheet = wb.worksheets[0]\n",
    "\n",
    "male_count = 0\n",
    "female_count = 0\n",
    "for row in sheet.iter_rows(min_row=2, max_row=sheet.max_row, min_col=5, max_col=5):\n",
    "    Gender = row[0].value\n",
    "    if Gender == 'Male':\n",
    "        male_count += 1\n",
    "    elif Gender == 'Female':        \n",
    "        female_count += 1\n",
    "print(f'Number of males: {male_count}')\n",
    "print(f'Number of females: {female_count}')"
   ]
  },
  {
   "cell_type": "markdown",
   "id": "61e5ecbb",
   "metadata": {},
   "source": [
    "# Q27. Plot a graph to count the patients based on discharge disposition."
   ]
  },
  {
   "cell_type": "code",
   "execution_count": 291,
   "id": "cd00c687",
   "metadata": {},
   "outputs": [
    {
     "data": {
      "image/png": "[encoded data removed]",
      "text/plain": [
       "<Figure size 640x480 with 1 Axes>"
      ]
     },
     "metadata": {},
     "output_type": "display_data"
    }
   ],
   "source": [
    "df = pd.read_excel('HospitalDatabase.xlsx', sheet_name = 'ReAdmissionRegistry')\n",
    "#counts = df.groupby('DischargeDisposition').size().reset_index(name='Total patients')\n",
    "#print(counts)\n",
    "fig=plt.figure()\n",
    "ax = fig.add_axes([0,0,1,1])\n",
    "exp = (0, 0.1, 0.1)\n",
    "ax.axis('equal')\n",
    "a = df.groupby('DischargeDisposition')['PatientID'].count()\n",
    "ax.pie(a, labels = a ,explode = exp )\n",
    "plt.show()"
   ]
  },
  {
   "cell_type": "markdown",
   "id": "54a37280",
   "metadata": {},
   "source": [
    "# Q28. Which reason of visit has maximum mortality rate."
   ]
  },
  {
   "cell_type": "code",
   "execution_count": 330,
   "id": "41820604",
   "metadata": {},
   "outputs": [
    {
     "name": "stdout",
     "output_type": "stream",
     "text": [
      "0      0.144444\n",
      "1      0.144444\n",
      "2      0.144444\n",
      "3      0.144444\n",
      "4      0.144444\n",
      "         ...   \n",
      "715    0.144444\n",
      "716    0.144444\n",
      "717    0.144444\n",
      "718    0.144444\n",
      "719    0.144444\n",
      "Name: mortalityrate, Length: 720, dtype: float64\n",
      "The reason with the maximum mortality rate is Stomach Ache\n"
     ]
    }
   ],
   "source": [
    "dfm = pd.merge(EDUnique, Discharges, on=\"PatientID\")\n",
    "dfm['exp'] = dfm.loc[dfm['DischargeDisposition']=='Expired', 'PatientID'].count()\n",
    "dfm['total'] = dfm['PatientID'].count()\n",
    "dfm['mortalityrate'] = dfm['exp'] / dfm['total']\n",
    "visitreason = dfm['ReasonForVisit'][dfm['mortalityrate'].idxmax()]\n",
    "print(f'The reason with the maximum mortality rate is {visitreason}')"
   ]
  },
  {
   "cell_type": "markdown",
   "id": "4eed999f",
   "metadata": {},
   "source": [
    "# Q29. Calculate average LOS."
   ]
  },
  {
   "cell_type": "code",
   "execution_count": 329,
   "id": "743c9886",
   "metadata": {},
   "outputs": [
    {
     "name": "stdout",
     "output_type": "stream",
     "text": [
      "9.534722222222221\n"
     ]
    }
   ],
   "source": [
    "df = pd.read_excel('HospitalDatabase.xlsx', sheet_name = 'Discharges')\n",
    "df['DischargeDate'] = pd.to_datetime(df['DischargeDate'])\n",
    "df['AdmissionDate'] = pd.to_datetime(df['AdmissionDate'])\n",
    "df['Difference'] = df.apply(lambda row: row['DischargeDate'] - row['AdmissionDate'], axis=1)\n",
    "df['Differenceindays'] = df['Difference'].apply(lambda x: x.days)\n",
    "AvgLOS = df['Differenceindays'].mean()\n",
    "print(AvgLOS)"
   ]
  },
  {
   "cell_type": "markdown",
   "id": "939b1658",
   "metadata": {},
   "source": [
    "# Q30. Which patient id has most entries in readmission registry."
   ]
  },
  {
   "cell_type": "code",
   "execution_count": 292,
   "id": "5bf8b33a",
   "metadata": {
    "scrolled": false
   },
   "outputs": [
    {
     "name": "stdout",
     "output_type": "stream",
     "text": [
      "The patient ID with the most entries is 23.\n"
     ]
    }
   ],
   "source": [
    "df = pd.read_excel('HospitalDatabase.xlsx', sheet_name = 'ReAdmissionRegistry')\n",
    "entry = df['PatientID'].tolist()\n",
    "id_counts = Counter(entry)\n",
    "most_common_id = id_counts.most_common(1)[0][0]\n",
    "print(f'The patient ID with the most entries is {most_common_id}.')"
   ]
  }
 ],
 "metadata": {
  "kernelspec": {
   "display_name": "Python 3 (ipykernel)",
   "language": "python",
   "name": "python3"
  },
  "language_info": {
   "codemirror_mode": {
    "name": "ipython",
    "version": 3
   },
   "file_extension": ".py",
   "mimetype": "text/x-python",
   "name": "python",
   "nbconvert_exporter": "python",
   "pygments_lexer": "ipython3",
   "version": "3.9.13"
  }
 },
 "nbformat": 4,
 "nbformat_minor": 5
}
