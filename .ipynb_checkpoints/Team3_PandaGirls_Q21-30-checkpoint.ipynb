{
 "cells": [
  {
   "attachments": {},
   "cell_type": "markdown",
   "id": "e17de6e6",
   "metadata": {},
   "source": [
    "# Q21. Which demographic patients are prone to get stroke?"
   ]
  },
  {
   "cell_type": "code",
   "execution_count": null,
   "id": "7a0f58e7",
   "metadata": {},
   "outputs": [],
   "source": []
  },
  {
   "cell_type": "markdown",
   "id": "cd91461c",
   "metadata": {},
   "source": [
    "# Q22. Create a dataframe with acuity and EDDisposition as the indices and the count of number of patients as the value."
   ]
  },
  {
   "cell_type": "code",
   "execution_count": 9,
   "id": "4796eaf2",
   "metadata": {},
   "outputs": [
    {
     "name": "stdout",
     "output_type": "stream",
     "text": [
      "                      EDVisitID  PatientID               VisitDate  \\\n",
      "Acuity EDDisposition                                                 \n",
      "1      Admitted               1          1 2020-01-01 00:00:00.000   \n",
      "2      Admitted              12         12 2020-01-01 02:45:40.302   \n",
      "3      Admitted              13         13 2020-01-01 03:09:24.701   \n",
      "       Admitted              14         14 2020-01-01 03:12:19.349   \n",
      "       Admitted              15         15 2020-01-01 03:46:32.698   \n",
      "...                         ...        ...                     ...   \n",
      "4      Discharged          1183        929 2020-01-15 10:38:42.570   \n",
      "1      Discharged          1186        932 2020-01-15 11:52:37.540   \n",
      "       Discharged          1187        933 2020-01-15 12:11:11.678   \n",
      "       Discharged          1188        934 2020-01-15 12:21:46.006   \n",
      "       Discharged          1189        935 2020-01-15 12:51:14.875   \n",
      "\n",
      "                             EDDischargeTime ReasonForVisit  \n",
      "Acuity EDDisposition                                         \n",
      "1      Admitted      2020-01-01 11:20:22.924   Stomach Ache  \n",
      "2      Admitted      2020-01-02 02:00:00.517       Migraine  \n",
      "3      Admitted      2020-01-01 05:00:20.852   Stomach Ache  \n",
      "       Admitted      2020-01-01 04:32:29.142       Migraine  \n",
      "       Admitted      2020-01-01 06:24:52.741     Chest Pain  \n",
      "...                                      ...            ...  \n",
      "4      Discharged    2020-01-16 02:31:52.023     Chest Pain  \n",
      "1      Discharged    2020-01-16 10:19:41.570      Pneumonia  \n",
      "       Discharged    2020-01-15 16:41:15.223      Pneumonia  \n",
      "       Discharged    2020-01-15 18:32:21.060      Pneumonia  \n",
      "       Discharged    2020-01-15 23:40:41.456      Pneumonia  \n",
      "\n",
      "[1199 rows x 5 columns]\n",
      "Total no. of Patients is 1199\n"
     ]
    }
   ],
   "source": [
    "import pandas as pd\n",
    "\n",
    "# Load the data into a DataFrame\n",
    "df = pd.read_excel('HospitalDatabase.xlsx', sheet_name = 'EDVisits')\n",
    "\n",
    "# Set the 'Acuity' and 'EDDisposition' columns as indexes\n",
    "df.set_index(['Acuity', 'EDDisposition'], inplace=True)\n",
    "\n",
    "# Display the resulting DataFrame\n",
    "print(df)\n",
    "# Count the number of patients\n",
    "patient_count = df['PatientID'].count()\n",
    "\n",
    "# Display the count\n",
    "print('Total no. of Patients is',patient_count)"
   ]
  },
  {
   "cell_type": "markdown",
   "id": "74e503a3",
   "metadata": {},
   "source": [
    "# Q23. Write a function to find the center element in the list. (one element in odd length list,  two elements in even length list)."
   ]
  },
  {
   "cell_type": "code",
   "execution_count": null,
   "id": "cac467c8",
   "metadata": {},
   "outputs": [],
   "source": []
  },
  {
   "cell_type": "markdown",
   "id": "c0739d72",
   "metadata": {},
   "source": [
    "# Q24. Get the number of patients based on ReasonForVisit and EDDisposition (use stack/unstack functions)."
   ]
  },
  {
   "cell_type": "code",
   "execution_count": null,
   "id": "28107a4b",
   "metadata": {},
   "outputs": [],
   "source": []
  },
  {
   "cell_type": "markdown",
   "id": "314bed35",
   "metadata": {},
   "source": [
    "# Q25. Plot a graph by counting the no. of patients in each department."
   ]
  },
  {
   "cell_type": "code",
   "execution_count": null,
   "id": "df8681c6",
   "metadata": {},
   "outputs": [],
   "source": []
  },
  {
   "cell_type": "markdown",
   "id": "36ab9c74",
   "metadata": {},
   "source": [
    "# Q26. Using arrays and loops, find the count of patients based on gender."
   ]
  },
  {
   "cell_type": "code",
   "execution_count": null,
   "id": "71fd7e81",
   "metadata": {},
   "outputs": [],
   "source": []
  },
  {
   "cell_type": "markdown",
   "id": "333c5af6",
   "metadata": {},
   "source": [
    "# Q27. Plot a graph to count the patients based on discharge disposition."
   ]
  },
  {
   "cell_type": "code",
   "execution_count": null,
   "id": "957d5f57",
   "metadata": {},
   "outputs": [],
   "source": []
  },
  {
   "cell_type": "markdown",
   "id": "9c501448",
   "metadata": {},
   "source": [
    "# Q28. Which reason of visit has maximum mortality rate."
   ]
  },
  {
   "cell_type": "code",
   "execution_count": null,
   "id": "39d0bb44",
   "metadata": {},
   "outputs": [],
   "source": []
  },
  {
   "cell_type": "markdown",
   "id": "4b897931",
   "metadata": {},
   "source": [
    "# Q29. Calculate average LOS."
   ]
  },
  {
   "cell_type": "code",
   "execution_count": null,
   "id": "633e40b5",
   "metadata": {},
   "outputs": [],
   "source": []
  },
  {
   "cell_type": "markdown",
   "id": "03170986",
   "metadata": {},
   "source": [
    "# Q30. Which patient id has most entries in readmission registry."
   ]
  },
  {
   "cell_type": "code",
   "execution_count": null,
   "id": "a3989003",
   "metadata": {},
   "outputs": [],
   "source": []
  }
 ],
 "metadata": {
  "kernelspec": {
   "display_name": "Python 3 (ipykernel)",
   "language": "python",
   "name": "python3"
  },
  "language_info": {
   "codemirror_mode": {
    "name": "ipython",
    "version": 3
   },
   "file_extension": ".py",
   "mimetype": "text/x-python",
   "name": "python",
   "nbconvert_exporter": "python",
   "pygments_lexer": "ipython3",
   "version": "3.9.13"
  }
 },
 "nbformat": 4,
 "nbformat_minor": 5
}
