{
 "cells": [
  {
   "cell_type": "markdown",
   "id": "51bf6672",
   "metadata": {},
   "source": [
    "# Q21. Which demographic patients are prone to get stroke?"
   ]
  },
  {
   "cell_type": "code",
   "execution_count": 43,
   "id": "60510353",
   "metadata": {},
   "outputs": [
    {
     "name": "stdout",
     "output_type": "stream",
     "text": [
      "    ReAdmissionRegistry                                                  \\\n",
      "            AdmissionID PatientID AdmissionDate           DischargeDate   \n",
      "0                   389         1    2018-01-01 2018-01-04 19:59:31.391   \n",
      "1                   635         2    2018-01-01 2018-01-04 21:28:51.898   \n",
      "2                   606         3    2018-01-01 2018-01-04 22:28:23.672   \n",
      "3                   587         5    2018-01-01 2018-01-05 05:47:04.933   \n",
      "4                   640         6    2018-01-01 2018-01-05 14:18:30.029   \n",
      "..                  ...       ...           ...                     ...   \n",
      "715                 521       738    2018-02-22 2018-03-07 21:22:10.061   \n",
      "716                 548       739    2018-02-22 2018-03-08 02:43:18.749   \n",
      "717                 509       740    2018-02-22 2018-03-08 09:27:18.377   \n",
      "718                 605       741    2018-02-22 2018-03-10 06:06:12.068   \n",
      "719                 710       742    2018-02-22 2018-03-10 20:38:30.568   \n",
      "\n",
      "                                                                         \\\n",
      "    DischargeDisposition           Service PrimaryDiagnosis ExpectedLOS   \n",
      "0                   Home       Hospitalist   Kidney Failure    6.717771   \n",
      "1                   Home  General Medicine              Flu    3.825969   \n",
      "2                   Home  General Medicine              Flu    3.382493   \n",
      "3                   Home  General Medicine              Flu    3.763352   \n",
      "4                   Home               ICU    Heart Failure   13.650953   \n",
      "..                   ...               ...              ...         ...   \n",
      "715                 Home        Cardiology              AMI   13.725405   \n",
      "716                 Home               ICU        Pneumonia   11.355456   \n",
      "717                 Home       Hospitalist        Pneumonia    4.819882   \n",
      "718                 Home  General Medicine              Flu    3.123064   \n",
      "719             Transfer  General Medicine         Diabetes    7.195441   \n",
      "\n",
      "                                                         \\\n",
      "    ExpectedMortality ReadmissionFlag DaysToReadmission   \n",
      "0            0.010046             NaN               NaN   \n",
      "1            0.604562             1.0               2.0   \n",
      "2            0.266137             1.0               3.0   \n",
      "3            0.307527             1.0               4.0   \n",
      "4            0.408898             NaN               NaN   \n",
      "..                ...             ...               ...   \n",
      "715          0.388319             NaN               NaN   \n",
      "716          0.088518             NaN               NaN   \n",
      "717          0.503308             NaN               NaN   \n",
      "718          0.655870             NaN               NaN   \n",
      "719          0.286439             NaN               NaN   \n",
      "\n",
      "                               Patients                     \\\n",
      "    EDVisitAfterDischargeFlag PatientID FirstName LastName   \n",
      "0                         NaN         1     Lanni      Sue   \n",
      "1                         1.0         2       Far    Myers   \n",
      "2                         1.0         3   Devlin   Michael   \n",
      "3                         1.0         4   Carmine    Texas   \n",
      "4                         NaN         5     Tann      Bama   \n",
      "..                        ...       ...       ...      ...   \n",
      "715                       NaN       716    Lavena   Tidman   \n",
      "716                       NaN       717      Hahn    Baudy   \n",
      "717                       NaN       718      Luce     Shaw   \n",
      "718                       NaN       719    Stokes    Group   \n",
      "719                       NaN       720    Lavena    Walsh   \n",
      "\n",
      "                                                    \n",
      "                DateOfBirth Gender   Race Language  \n",
      "0   1960-01-01 00:00:00.000   Male  White  English  \n",
      "1   1985-11-15 02:08:42.090   Male  White  English  \n",
      "2   1976-04-15 02:52:09.762   Male  White  English  \n",
      "3   1968-10-15 03:32:13.635   Male  White  English  \n",
      "4   1962-05-01 19:12:58.950   Male  White  English  \n",
      "..                      ...    ...    ...      ...  \n",
      "715 1960-10-19 05:11:54.816   Male  White  English  \n",
      "716 1961-03-02 06:09:40.630   Male  White  English  \n",
      "717 1978-06-09 02:31:08.949   Male  White  English  \n",
      "718 1961-06-18 09:57:24.267   Male  White  English  \n",
      "719 1970-11-26 14:06:17.165   Male  White  English  \n",
      "\n",
      "[720 rows x 19 columns]\n"
     ]
    }
   ],
   "source": [
    "import pandas as pd\n",
    "\n",
    "df= pd.concat(pd.read_excel('HospitalDatabase.xlsx', sheet_name = ['ReAdmissionRegistry','Patients']), axis = 1, join = 'inner')\n",
    "print(df)\n",
    "\n",
    "\n"
   ]
  },
  {
   "cell_type": "markdown",
   "id": "5b44ec03",
   "metadata": {},
   "source": [
    "# Q22. Create a dataframe with acuity and EDDisposition as the indices and the count of number of patients as the value."
   ]
  },
  {
   "cell_type": "code",
   "execution_count": 18,
   "id": "2f6ce84b",
   "metadata": {},
   "outputs": [
    {
     "data": {
      "text/html": [
       "<div>\n",
       "<style scoped>\n",
       "    .dataframe tbody tr th:only-of-type {\n",
       "        vertical-align: middle;\n",
       "    }\n",
       "\n",
       "    .dataframe tbody tr th {\n",
       "        vertical-align: top;\n",
       "    }\n",
       "\n",
       "    .dataframe thead th {\n",
       "        text-align: right;\n",
       "    }\n",
       "</style>\n",
       "<table border=\"1\" class=\"dataframe\">\n",
       "  <thead>\n",
       "    <tr style=\"text-align: right;\">\n",
       "      <th></th>\n",
       "      <th></th>\n",
       "      <th>PatientID</th>\n",
       "    </tr>\n",
       "    <tr>\n",
       "      <th>Acuity</th>\n",
       "      <th>EDDisposition</th>\n",
       "      <th></th>\n",
       "    </tr>\n",
       "  </thead>\n",
       "  <tbody>\n",
       "    <tr>\n",
       "      <th rowspan=\"2\" valign=\"top\">1</th>\n",
       "      <th>Admitted</th>\n",
       "      <td>32</td>\n",
       "    </tr>\n",
       "    <tr>\n",
       "      <th>Discharged</th>\n",
       "      <td>558</td>\n",
       "    </tr>\n",
       "    <tr>\n",
       "      <th rowspan=\"2\" valign=\"top\">2</th>\n",
       "      <th>Admitted</th>\n",
       "      <td>116</td>\n",
       "    </tr>\n",
       "    <tr>\n",
       "      <th>Discharged</th>\n",
       "      <td>66</td>\n",
       "    </tr>\n",
       "    <tr>\n",
       "      <th>3</th>\n",
       "      <th>Admitted</th>\n",
       "      <td>81</td>\n",
       "    </tr>\n",
       "    <tr>\n",
       "      <th rowspan=\"2\" valign=\"top\">4</th>\n",
       "      <th>Admitted</th>\n",
       "      <td>107</td>\n",
       "    </tr>\n",
       "    <tr>\n",
       "      <th>Discharged</th>\n",
       "      <td>30</td>\n",
       "    </tr>\n",
       "    <tr>\n",
       "      <th rowspan=\"2\" valign=\"top\">5</th>\n",
       "      <th>Admitted</th>\n",
       "      <td>179</td>\n",
       "    </tr>\n",
       "    <tr>\n",
       "      <th>Discharged</th>\n",
       "      <td>30</td>\n",
       "    </tr>\n",
       "  </tbody>\n",
       "</table>\n",
       "</div>"
      ],
      "text/plain": [
       "                      PatientID\n",
       "Acuity EDDisposition           \n",
       "1      Admitted              32\n",
       "       Discharged           558\n",
       "2      Admitted             116\n",
       "       Discharged            66\n",
       "3      Admitted              81\n",
       "4      Admitted             107\n",
       "       Discharged            30\n",
       "5      Admitted             179\n",
       "       Discharged            30"
      ]
     },
     "execution_count": 18,
     "metadata": {},
     "output_type": "execute_result"
    }
   ],
   "source": [
    "import pandas as pd\n",
    "\n",
    "df = pd.read_excel('HospitalDatabase.xlsx', sheet_name = 'EDVisits', usecols = ['Acuity', 'EDDisposition', 'PatientID'])\n",
    "df.set_index(['Acuity', 'EDDisposition'])\n",
    "df.groupby(by = ['Acuity', 'EDDisposition']).count()"
   ]
  },
  {
   "cell_type": "markdown",
   "id": "42a3461b",
   "metadata": {},
   "source": [
    "# Q23. Write a function to find the center element in the list. (one element in odd length list,  two elements in even length list)."
   ]
  },
  {
   "cell_type": "code",
   "execution_count": null,
   "id": "9551db14",
   "metadata": {},
   "outputs": [],
   "source": []
  },
  {
   "cell_type": "markdown",
   "id": "bfcbbc1f",
   "metadata": {},
   "source": [
    "# Q24. Get the number of patients based on ReasonForVisit and EDDisposition (use stack/unstack functions)."
   ]
  },
  {
   "cell_type": "code",
   "execution_count": null,
   "id": "f2b8f26f",
   "metadata": {},
   "outputs": [],
   "source": []
  },
  {
   "cell_type": "markdown",
   "id": "a325cf8b",
   "metadata": {},
   "source": [
    "# Q25. Plot a graph by counting the no. of patients in each department."
   ]
  },
  {
   "cell_type": "code",
   "execution_count": null,
   "id": "19aaa1d8",
   "metadata": {},
   "outputs": [],
   "source": []
  },
  {
   "cell_type": "markdown",
   "id": "4f9e156d",
   "metadata": {},
   "source": [
    "# Q26. Using arrays and loops, find the count of patients based on gender."
   ]
  },
  {
   "cell_type": "code",
   "execution_count": null,
   "id": "856f975c",
   "metadata": {},
   "outputs": [],
   "source": []
  },
  {
   "cell_type": "markdown",
   "id": "61e5ecbb",
   "metadata": {},
   "source": [
    "# Q27. Plot a graph to count the patients based on discharge disposition."
   ]
  },
  {
   "cell_type": "code",
   "execution_count": null,
   "id": "cd00c687",
   "metadata": {},
   "outputs": [],
   "source": []
  },
  {
   "cell_type": "markdown",
   "id": "54a37280",
   "metadata": {},
   "source": [
    "# Q28. Which reason of visit has maximum mortality rate."
   ]
  },
  {
   "cell_type": "code",
   "execution_count": null,
   "id": "f814ea23",
   "metadata": {},
   "outputs": [],
   "source": []
  },
  {
   "cell_type": "markdown",
   "id": "4eed999f",
   "metadata": {},
   "source": [
    "# Q29. Calculate average LOS."
   ]
  },
  {
   "cell_type": "code",
   "execution_count": null,
   "id": "743c9886",
   "metadata": {},
   "outputs": [],
   "source": []
  },
  {
   "cell_type": "markdown",
   "id": "939b1658",
   "metadata": {},
   "source": [
    "# Q30. Which patient id has most entries in readmission registry."
   ]
  },
  {
   "cell_type": "code",
   "execution_count": null,
   "id": "b51a60b6",
   "metadata": {},
   "outputs": [],
   "source": []
  }
 ],
 "metadata": {
  "kernelspec": {
   "display_name": "Python 3 (ipykernel)",
   "language": "python",
   "name": "python3"
  },
  "language_info": {
   "codemirror_mode": {
    "name": "ipython",
    "version": 3
   },
   "file_extension": ".py",
   "mimetype": "text/x-python",
   "name": "python",
   "nbconvert_exporter": "python",
   "pygments_lexer": "ipython3",
   "version": "3.9.13"
  }
 },
 "nbformat": 4,
 "nbformat_minor": 5
}
