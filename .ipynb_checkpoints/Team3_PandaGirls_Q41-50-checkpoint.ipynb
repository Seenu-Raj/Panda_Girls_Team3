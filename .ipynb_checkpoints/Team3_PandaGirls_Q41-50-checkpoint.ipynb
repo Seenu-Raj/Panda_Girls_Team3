{
 "cells": [
  {
   "cell_type": "code",
   "execution_count": 1,
   "id": "4c5ccfa2",
   "metadata": {},
   "outputs": [],
   "source": [
    "## Importing everything together to save time\n",
    "\n",
    "import pandas as pd \n",
    "import numpy as np\n",
    "import matplotlib as mp\n",
    "import seaborn as sns\n",
    "import math\n",
    "import matplotlib.pyplot as plt\n",
    "from datetime import date\n",
    "%matplotlib inline\n",
    "## %matplotlib notebook\n",
    "\n",
    "Patients = pd.read_excel(\"HospitalDatabase.xlsx\",\"Patients\")\n",
    "EDVisits = pd.read_excel(\"HospitalDatabase.xlsx\",\"EDVisits\")\n",
    "AmbulatoryVisits = pd.read_excel(\"HospitalDatabase.xlsx\",\"AmbulatoryVisits\")\n",
    "ReAdmissionRegistry = pd.read_excel(\"HospitalDatabase.xlsx\",\"ReAdmissionRegistry\")\n",
    "Discharges = pd.read_excel(\"HospitalDatabase.xlsx\",\"Discharges\")\n",
    "Providers = pd.read_excel(\"HospitalDatabase.xlsx\",\"Providers\")\n",
    "EDUnique = pd.read_excel(\"HospitalDatabase.xlsx\",\"EDUnique\")\n",
    "Merged = pd.merge(Patients, Discharges, on=\"PatientID\")\n",
    "Merged1= pd.merge(Patients, ReAdmissionRegistry, on=\"PatientID\", how=\"left\")"
   ]
  },
  {
   "cell_type": "code",
   "execution_count": 2,
   "id": "ea7143af",
   "metadata": {},
   "outputs": [
    {
     "name": "stdout",
     "output_type": "stream",
     "text": [
      "Telemedicine\n"
     ]
    }
   ],
   "source": [
    "## Q41. Find the visit type with maximum 'No Show'.\n",
    "\n",
    "VisitType_noShow= AmbulatoryVisits['VisitType'].where(AmbulatoryVisits['VisitStatus'] =='No Show').dropna().max()\n",
    "print(VisitType_noShow)"
   ]
  },
  {
   "cell_type": "code",
   "execution_count": 6,
   "id": "5b63178c",
   "metadata": {},
   "outputs": [
    {
     "data": {
      "text/plain": [
       "VisitID                                          933\n",
       "PatientMRN                                       884\n",
       "ProviderID                                        27\n",
       "DateofVisit                      2019-02-14 00:00:00\n",
       "DateScheduled             2019-01-22 19:26:49.163000\n",
       "VisitDepartmentID                                 12\n",
       "VisitType                               Telemedicine\n",
       "BloodPressureSystolic                          190.0\n",
       "BloodPressureDiastolic                    143.989174\n",
       "Pulse                                      74.976879\n",
       "VisitStatus                                Completed\n",
       "Name: 236, dtype: object"
      ]
     },
     "execution_count": 6,
     "metadata": {},
     "output_type": "execute_result"
    }
   ],
   "source": [
    "## Q47. Using indexing , loc to retrieve the row with maximum BloodPressureSystolic.\n",
    "\n",
    "# There are 7 rows with the Systolic Blood Pressure as 190.0. Since the question specifies row\n",
    "# and not row(s), only one row is retrieved.\n",
    "\n",
    "AmbulatoryVisits.loc[AmbulatoryVisits['BloodPressureSystolic'].idxmax()]"
   ]
  },
  {
   "cell_type": "code",
   "execution_count": 74,
   "id": "efd4bd07",
   "metadata": {},
   "outputs": [
    {
     "data": {
      "text/plain": [
       "11    102\n",
       "10    100\n",
       "12     95\n",
       "8      93\n",
       "7      93\n",
       "6      92\n",
       "5      92\n",
       "9      79\n",
       "3      51\n",
       "4      51\n",
       "2      51\n",
       "1      51\n",
       "Name: VisitDepartmentID, dtype: int64"
      ]
     },
     "execution_count": 74,
     "metadata": {},
     "output_type": "execute_result"
    }
   ],
   "source": [
    "## Q50. Which departmentID has maximum number of visits scheduled.\n",
    "\n",
    "## Answer\n",
    "df = pd.read_excel(\"HospitalDatabase.xlsx\",\"AmbulatoryVisits\",usecols = [\"VisitDepartmentID\"])\n",
    "df.VisitDepartmentID.value_counts()\n",
    "\n",
    "# Department ID 11 has the maximum number of visits scheduled (102)."
   ]
  },
  {
   "cell_type": "code",
   "execution_count": 75,
   "id": "79e8fa78",
   "metadata": {},
   "outputs": [
    {
     "name": "stdout",
     "output_type": "stream",
     "text": [
      "Patient count for Pneumonia is: 201\n"
     ]
    }
   ],
   "source": [
    "## Q53. Take the ReasonForVisit from user, find the number of patients admitted with that ReasonForVisit.\n",
    "\n",
    "# Answer\n",
    "# Taking the ReasonForVisit as Pneumonia\n",
    "ReasonForVisit_Pneumonia = EDVisits['ReasonForVisit'].where (EDVisits['ReasonForVisit'] =='Pneumonia').dropna()\n",
    "rows_count = ReasonForVisit_Pneumonia.count()\n",
    "print ('Patient count for Pneumonia is:',rows_count )"
   ]
  },
  {
   "cell_type": "code",
   "execution_count": null,
   "id": "e53660ee",
   "metadata": {},
   "outputs": [],
   "source": []
  }
 ],
 "metadata": {
  "kernelspec": {
   "display_name": "Python 3 (ipykernel)",
   "language": "python",
   "name": "python3"
  },
  "language_info": {
   "codemirror_mode": {
    "name": "ipython",
    "version": 3
   },
   "file_extension": ".py",
   "mimetype": "text/x-python",
   "name": "python",
   "nbconvert_exporter": "python",
   "pygments_lexer": "ipython3",
   "version": "3.9.13"
  }
 },
 "nbformat": 4,
 "nbformat_minor": 5
}
