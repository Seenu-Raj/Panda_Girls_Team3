{
 "cells": [
  {
   "cell_type": "code",
   "execution_count": 1,
   "id": "cf958abb",
   "metadata": {},
   "outputs": [],
   "source": [
    "## Importing everything together to save time\n",
    "\n",
    "import pandas as pd \n",
    "import numpy as np\n",
    "import matplotlib as mp\n",
    "import seaborn as sns\n",
    "import math\n",
    "import matplotlib.pyplot as plt\n",
    "from datetime import date\n",
    "%matplotlib inline\n",
    "## %matplotlib notebook\n",
    "\n",
    "Patients = pd.read_excel(\"HospitalDatabase.xlsx\",\"Patients\")\n",
    "EDVisits = pd.read_excel(\"HospitalDatabase.xlsx\",\"EDVisits\")\n",
    "AmbulatoryVisits = pd.read_excel(\"HospitalDatabase.xlsx\",\"AmbulatoryVisits\")\n",
    "ReAdmissionRegistry = pd.read_excel(\"HospitalDatabase.xlsx\",\"ReAdmissionRegistry\")\n",
    "Discharges = pd.read_excel(\"HospitalDatabase.xlsx\",\"Discharges\")\n",
    "Providers = pd.read_excel(\"HospitalDatabase.xlsx\",\"Providers\")\n",
    "EDUnique = pd.read_excel(\"HospitalDatabase.xlsx\",\"EDUnique\")\n",
    "Merged = pd.merge(Patients, Discharges, on=\"PatientID\")\n",
    "Merged1= pd.merge(Patients, ReAdmissionRegistry, on=\"PatientID\", how=\"left\")"
   ]
  },
  {
   "cell_type": "code",
   "execution_count": 2,
   "id": "95f8e5a2",
   "metadata": {},
   "outputs": [
    {
     "name": "stdout",
     "output_type": "stream",
     "text": [
      "Telemedicine\n"
     ]
    }
   ],
   "source": [
    "## Q41. Find the visit type with maximum 'No Show'.\n",
    "\n",
    "VisitType_noShow= AmbulatoryVisits['VisitType'].where(AmbulatoryVisits['VisitStatus'] =='No Show').dropna().max()\n",
    "print(VisitType_noShow)"
   ]
  },
  {
   "cell_type": "code",
   "execution_count": 79,
   "id": "e63e72ea",
   "metadata": {},
   "outputs": [
    {
     "name": "stdout",
     "output_type": "stream",
     "text": [
      "    ProviderID     ProviderName ProviderSpecialty     ProviderDateOnStaff\n",
      "10          11     Kim Kimberly           Surgery 1998-05-10 14:47:29.468\n",
      "11          12         Sarah Ab           Surgery 1998-08-18 05:22:40.762\n",
      "12          13  Abigail Marriot           Surgery 1998-11-08 12:25:45.705\n",
      "13          14          Dave Yu           Surgery 1999-06-26 16:18:57.436\n",
      "14          15  Christian Saint           Surgery 2000-08-27 00:12:40.326\n",
      "15          16     Perry Pardon           Surgery 2001-02-13 11:49:17.862\n"
     ]
    }
   ],
   "source": [
    "## Q42. Using loc , get the details of the providers where providerId is between 11 and 20 \n",
    "## and ProviderSpecialty is Surgery.\n",
    "\n",
    "df1 = Providers.loc[(Providers[\"ProviderSpecialty\"] == 'Surgery') & Providers[\"ProviderID\"]. between(11,20)]\n",
    "print (df1)"
   ]
  },
  {
   "cell_type": "code",
   "execution_count": 83,
   "id": "b976e4ab",
   "metadata": {},
   "outputs": [
    {
     "name": "stdout",
     "output_type": "stream",
     "text": [
      "-1\n",
      "-1\n",
      "-1\n",
      "-1\n",
      "-1\n",
      "99\n",
      "99\n",
      "99\n",
      "99\n",
      "99\n",
      "99\n",
      "99\n",
      "99\n",
      "99\n",
      "99\n",
      "99\n",
      "99\n",
      "99\n",
      "99\n",
      "99\n",
      "99\n",
      "99\n",
      "99\n",
      "99\n",
      "99\n",
      "99\n",
      "99\n",
      "99\n",
      "99\n",
      "99\n"
     ]
    }
   ],
   "source": [
    "## Q43. In question 34, when the value is less than 6, print as -1,else print 99.\n",
    "\n",
    "#generate 2D array\n",
    "arr=np.arange(1,31).reshape(6,5)\n",
    "\n",
    "#iterate over rows & cols on the array\n",
    "for i in range(arr.shape[0]):\n",
    " for j in range(arr.shape[1]):\n",
    "     #if value<6, print -1\n",
    "    if arr[i,j]<6:\n",
    "        print(-1)\n",
    "    # else print 99\n",
    "    else:\n",
    "        print(99)"
   ]
  },
  {
   "cell_type": "code",
   "execution_count": 6,
   "id": "3221d2dd",
   "metadata": {},
   "outputs": [
    {
     "data": {
      "text/plain": [
       "VisitID                                          933\n",
       "PatientMRN                                       884\n",
       "ProviderID                                        27\n",
       "DateofVisit                      2019-02-14 00:00:00\n",
       "DateScheduled             2019-01-22 19:26:49.163000\n",
       "VisitDepartmentID                                 12\n",
       "VisitType                               Telemedicine\n",
       "BloodPressureSystolic                          190.0\n",
       "BloodPressureDiastolic                    143.989174\n",
       "Pulse                                      74.976879\n",
       "VisitStatus                                Completed\n",
       "Name: 236, dtype: object"
      ]
     },
     "execution_count": 6,
     "metadata": {},
     "output_type": "execute_result"
    }
   ],
   "source": [
    "## Q47. Using indexing , loc to retrieve the row with maximum BloodPressureSystolic.\n",
    "\n",
    "# There are 7 rows with the Systolic Blood Pressure as 190.0. Since the question specifies row\n",
    "# and not row(s), only one row is retrieved.\n",
    "\n",
    "AmbulatoryVisits.loc[AmbulatoryVisits['BloodPressureSystolic'].idxmax()]"
   ]
  },
  {
   "cell_type": "code",
   "execution_count": null,
   "id": "5147b9b2",
   "metadata": {},
   "outputs": [],
   "source": [
    "##49. Retrieve the count of patients who are prone to hypertension crisis. (SBP>180 & DBP>120)\n",
    "\n",
    "##Answer\n",
    "Patients[\"Age\"] = (pd.to_datetime(\"today\").year-pd.to_datetime(Patients[\"DateOfBirth\"]).dt.year)\n",
    "Merged = pd.merge(Patients, Discharges, on=\"PatientID\")\n",
    "Stroke_age = Merged['Age'].where(Merged['PrimaryDiagnosis']=='Stroke').dropna().max()\n",
    "print('Age prone to get Stroke will be',int(Stroke_age))\n"
   ]
  },
  {
   "cell_type": "code",
   "execution_count": 75,
   "id": "36bb5536",
   "metadata": {},
   "outputs": [
    {
     "name": "stdout",
     "output_type": "stream",
     "text": [
      "Patient count for Pneumonia is: 201\n"
     ]
    }
   ],
   "source": [
    "## Q53. Take the ReasonForVisit from user, find the number of patients admitted with that ReasonForVisit.\n",
    "\n",
    "# Answer\n",
    "# Taking the ReasonForVisit as Pneumonia\n",
    "ReasonForVisit_Pneumonia = EDVisits['ReasonForVisit'].where (EDVisits['ReasonForVisit'] =='Pneumonia').dropna()\n",
    "rows_count = ReasonForVisit_Pneumonia.count()\n",
    "print ('Patient count for Pneumonia is:',rows_count )"
   ]
  },
  {
   "cell_type": "code",
   "execution_count": 85,
   "id": "f1787ef1",
   "metadata": {},
   "outputs": [
    {
     "name": "stdout",
     "output_type": "stream",
     "text": [
      "The Department ID with maximum number of scheduled visits is 11.\n"
     ]
    }
   ],
   "source": [
    "## Q50. Which departmentID has maximum number of visits scheduled.\n",
    "\n",
    "from collections import Counter\n",
    "\n",
    "df = pd.read_excel('HospitalDatabase.xlsx', sheet_name = 'AmbulatoryVisits')\n",
    "entry = df['VisitDepartmentID'].tolist()\n",
    "id_counts = Counter(entry)\n",
    "most_common_id = id_counts.most_common(1)[0][0]\n",
    "\n",
    "print(f'The Department ID with maximum number of scheduled visits is {most_common_id}.')"
   ]
  },
  {
   "cell_type": "code",
   "execution_count": 74,
   "id": "4b9c08f2",
   "metadata": {},
   "outputs": [
    {
     "data": {
      "text/plain": [
       "11    102\n",
       "10    100\n",
       "12     95\n",
       "8      93\n",
       "7      93\n",
       "6      92\n",
       "5      92\n",
       "9      79\n",
       "3      51\n",
       "4      51\n",
       "2      51\n",
       "1      51\n",
       "Name: VisitDepartmentID, dtype: int64"
      ]
     },
     "execution_count": 74,
     "metadata": {},
     "output_type": "execute_result"
    }
   ],
   "source": [
    "## Answer 50 (contd)\n",
    "## This gives the list of all the department ID's with the number of visits scheduled\n",
    "\n",
    "df = pd.read_excel(\"HospitalDatabase.xlsx\",\"AmbulatoryVisits\",usecols = [\"VisitDepartmentID\"])\n",
    "df.VisitDepartmentID.value_counts()\n",
    "\n",
    "# Department ID 11 has the maximum number of visits scheduled (102)."
   ]
  },
  {
   "cell_type": "code",
   "execution_count": 89,
   "id": "1a31baa3",
   "metadata": {},
   "outputs": [
    {
     "name": "stdout",
     "output_type": "stream",
     "text": [
      "['This', 'is', 'Team', '3', 'and', 'we', 'are', 'called', 'Panda', 'Girls']\n"
     ]
    }
   ],
   "source": [
    "## Q46. Write a code to split a sentence into words using regex.\n",
    "\n",
    "#Answer:\n",
    "\n",
    "import re\n",
    "split_string = \"This is Team 3 and we are called Panda Girls\"\n",
    "word_list = re.split(r\"\\s+\", split_string)\n",
    "print(word_list)"
   ]
  },
  {
   "cell_type": "code",
   "execution_count": null,
   "id": "5141c249",
   "metadata": {},
   "outputs": [],
   "source": []
  }
 ],
 "metadata": {
  "kernelspec": {
   "display_name": "Python 3 (ipykernel)",
   "language": "python",
   "name": "python3"
  },
  "language_info": {
   "codemirror_mode": {
    "name": "ipython",
    "version": 3
   },
   "file_extension": ".py",
   "mimetype": "text/x-python",
   "name": "python",
   "nbconvert_exporter": "python",
   "pygments_lexer": "ipython3",
   "version": "3.9.13"
  }
 },
 "nbformat": 4,
 "nbformat_minor": 5
}
