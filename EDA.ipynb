{
 "cells": [
  {
   "cell_type": "code",
   "execution_count": 1,
   "id": "9a6920af",
   "metadata": {},
   "outputs": [],
   "source": [
    "import pandas as pd\n",
    "import numpy as np\n",
    "import matplotlib.pyplot as plt\n",
    "import squarify\n",
    "import seaborn as sns\n",
    "from datetime import datetime\n",
    "import datetime as dt"
   ]
  },
  {
   "cell_type": "code",
   "execution_count": 2,
   "id": "b7d7fe3a",
   "metadata": {},
   "outputs": [],
   "source": [
    "Patients =pd.read_excel(\"HospitalDatabase.xlsx\", sheet_name= \"Patients\")\n",
    "EDVisits =pd.read_excel(\"HospitalDatabase.xlsx\", sheet_name= \"EDVisits\")\n",
    "AmbulatoryVisits =pd.read_excel(\"HospitalDatabase.xlsx\", sheet_name= \"AmbulatoryVisits\")\n",
    "ReAdmissionRegistry =pd.read_excel(\"HospitalDatabase.xlsx\", sheet_name= \"ReAdmissionRegistry\")\n",
    "Discharges =pd.read_excel(\"HospitalDatabase.xlsx\", sheet_name= \"Discharges\")\n",
    "Providers =pd.read_excel(\"HospitalDatabase.xlsx\", sheet_name= \"Providers\")\n",
    "EDUnique = pd.read_excel(\"HospitalDatabase.xlsx\", sheet_name= \"EDUnique\")"
   ]
  },
  {
   "cell_type": "code",
   "execution_count": 6,
   "id": "caf2a35a",
   "metadata": {},
   "outputs": [
    {
     "data": {
      "text/html": [
       "<div>\n",
       "<style scoped>\n",
       "    .dataframe tbody tr th:only-of-type {\n",
       "        vertical-align: middle;\n",
       "    }\n",
       "\n",
       "    .dataframe tbody tr th {\n",
       "        vertical-align: top;\n",
       "    }\n",
       "\n",
       "    .dataframe thead th {\n",
       "        text-align: right;\n",
       "    }\n",
       "</style>\n",
       "<table border=\"1\" class=\"dataframe\">\n",
       "  <thead>\n",
       "    <tr style=\"text-align: right;\">\n",
       "      <th></th>\n",
       "      <th>EDVisitID</th>\n",
       "      <th>PatientID</th>\n",
       "      <th>Acuity</th>\n",
       "    </tr>\n",
       "  </thead>\n",
       "  <tbody>\n",
       "    <tr>\n",
       "      <th>count</th>\n",
       "      <td>1199.000000</td>\n",
       "      <td>1199.000000</td>\n",
       "      <td>1199.000000</td>\n",
       "    </tr>\n",
       "    <tr>\n",
       "      <th>mean</th>\n",
       "      <td>600.000000</td>\n",
       "      <td>405.615513</td>\n",
       "      <td>2.326939</td>\n",
       "    </tr>\n",
       "    <tr>\n",
       "      <th>std</th>\n",
       "      <td>346.265794</td>\n",
       "      <td>279.829613</td>\n",
       "      <td>1.575014</td>\n",
       "    </tr>\n",
       "    <tr>\n",
       "      <th>min</th>\n",
       "      <td>1.000000</td>\n",
       "      <td>1.000000</td>\n",
       "      <td>1.000000</td>\n",
       "    </tr>\n",
       "    <tr>\n",
       "      <th>25%</th>\n",
       "      <td>300.500000</td>\n",
       "      <td>164.500000</td>\n",
       "      <td>1.000000</td>\n",
       "    </tr>\n",
       "    <tr>\n",
       "      <th>50%</th>\n",
       "      <td>600.000000</td>\n",
       "      <td>346.000000</td>\n",
       "      <td>2.000000</td>\n",
       "    </tr>\n",
       "    <tr>\n",
       "      <th>75%</th>\n",
       "      <td>899.500000</td>\n",
       "      <td>645.500000</td>\n",
       "      <td>4.000000</td>\n",
       "    </tr>\n",
       "    <tr>\n",
       "      <th>max</th>\n",
       "      <td>1199.000000</td>\n",
       "      <td>945.000000</td>\n",
       "      <td>5.000000</td>\n",
       "    </tr>\n",
       "  </tbody>\n",
       "</table>\n",
       "</div>"
      ],
      "text/plain": [
       "         EDVisitID    PatientID       Acuity\n",
       "count  1199.000000  1199.000000  1199.000000\n",
       "mean    600.000000   405.615513     2.326939\n",
       "std     346.265794   279.829613     1.575014\n",
       "min       1.000000     1.000000     1.000000\n",
       "25%     300.500000   164.500000     1.000000\n",
       "50%     600.000000   346.000000     2.000000\n",
       "75%     899.500000   645.500000     4.000000\n",
       "max    1199.000000   945.000000     5.000000"
      ]
     },
     "execution_count": 6,
     "metadata": {},
     "output_type": "execute_result"
    }
   ],
   "source": [
    "EDVisits.describe()"
   ]
  },
  {
   "cell_type": "code",
   "execution_count": 7,
   "id": "27fbf268",
   "metadata": {},
   "outputs": [
    {
     "data": {
      "text/html": [
       "<div>\n",
       "<style scoped>\n",
       "    .dataframe tbody tr th:only-of-type {\n",
       "        vertical-align: middle;\n",
       "    }\n",
       "\n",
       "    .dataframe tbody tr th {\n",
       "        vertical-align: top;\n",
       "    }\n",
       "\n",
       "    .dataframe thead th {\n",
       "        text-align: right;\n",
       "    }\n",
       "</style>\n",
       "<table border=\"1\" class=\"dataframe\">\n",
       "  <thead>\n",
       "    <tr style=\"text-align: right;\">\n",
       "      <th></th>\n",
       "      <th>VisitID</th>\n",
       "      <th>PatientMRN</th>\n",
       "      <th>ProviderID</th>\n",
       "      <th>VisitDepartmentID</th>\n",
       "      <th>BloodPressureSystolic</th>\n",
       "      <th>BloodPressureDiastolic</th>\n",
       "      <th>Pulse</th>\n",
       "    </tr>\n",
       "  </thead>\n",
       "  <tbody>\n",
       "    <tr>\n",
       "      <th>count</th>\n",
       "      <td>950.000000</td>\n",
       "      <td>950.000000</td>\n",
       "      <td>950.000000</td>\n",
       "      <td>950.000000</td>\n",
       "      <td>826.000000</td>\n",
       "      <td>826.000000</td>\n",
       "      <td>826.000000</td>\n",
       "    </tr>\n",
       "    <tr>\n",
       "      <th>mean</th>\n",
       "      <td>475.500000</td>\n",
       "      <td>592.648421</td>\n",
       "      <td>18.638947</td>\n",
       "      <td>7.252632</td>\n",
       "      <td>155.815981</td>\n",
       "      <td>106.841232</td>\n",
       "      <td>74.464751</td>\n",
       "    </tr>\n",
       "    <tr>\n",
       "      <th>std</th>\n",
       "      <td>274.385677</td>\n",
       "      <td>345.126034</td>\n",
       "      <td>11.392470</td>\n",
       "      <td>3.262549</td>\n",
       "      <td>20.508743</td>\n",
       "      <td>23.219744</td>\n",
       "      <td>14.419596</td>\n",
       "    </tr>\n",
       "    <tr>\n",
       "      <th>min</th>\n",
       "      <td>1.000000</td>\n",
       "      <td>4.000000</td>\n",
       "      <td>1.000000</td>\n",
       "      <td>1.000000</td>\n",
       "      <td>120.000000</td>\n",
       "      <td>51.695653</td>\n",
       "      <td>50.072068</td>\n",
       "    </tr>\n",
       "    <tr>\n",
       "      <th>25%</th>\n",
       "      <td>238.250000</td>\n",
       "      <td>93.250000</td>\n",
       "      <td>9.000000</td>\n",
       "      <td>5.000000</td>\n",
       "      <td>137.000000</td>\n",
       "      <td>88.066185</td>\n",
       "      <td>62.282399</td>\n",
       "    </tr>\n",
       "    <tr>\n",
       "      <th>50%</th>\n",
       "      <td>475.500000</td>\n",
       "      <td>813.500000</td>\n",
       "      <td>18.000000</td>\n",
       "      <td>7.000000</td>\n",
       "      <td>156.000000</td>\n",
       "      <td>107.460231</td>\n",
       "      <td>73.642034</td>\n",
       "    </tr>\n",
       "    <tr>\n",
       "      <th>75%</th>\n",
       "      <td>712.750000</td>\n",
       "      <td>871.000000</td>\n",
       "      <td>29.000000</td>\n",
       "      <td>10.000000</td>\n",
       "      <td>174.000000</td>\n",
       "      <td>123.740114</td>\n",
       "      <td>86.417593</td>\n",
       "    </tr>\n",
       "    <tr>\n",
       "      <th>max</th>\n",
       "      <td>950.000000</td>\n",
       "      <td>917.000000</td>\n",
       "      <td>40.000000</td>\n",
       "      <td>12.000000</td>\n",
       "      <td>190.000000</td>\n",
       "      <td>157.296683</td>\n",
       "      <td>99.986463</td>\n",
       "    </tr>\n",
       "  </tbody>\n",
       "</table>\n",
       "</div>"
      ],
      "text/plain": [
       "          VisitID  PatientMRN  ProviderID  VisitDepartmentID  \\\n",
       "count  950.000000  950.000000  950.000000         950.000000   \n",
       "mean   475.500000  592.648421   18.638947           7.252632   \n",
       "std    274.385677  345.126034   11.392470           3.262549   \n",
       "min      1.000000    4.000000    1.000000           1.000000   \n",
       "25%    238.250000   93.250000    9.000000           5.000000   \n",
       "50%    475.500000  813.500000   18.000000           7.000000   \n",
       "75%    712.750000  871.000000   29.000000          10.000000   \n",
       "max    950.000000  917.000000   40.000000          12.000000   \n",
       "\n",
       "       BloodPressureSystolic  BloodPressureDiastolic       Pulse  \n",
       "count             826.000000              826.000000  826.000000  \n",
       "mean              155.815981              106.841232   74.464751  \n",
       "std                20.508743               23.219744   14.419596  \n",
       "min               120.000000               51.695653   50.072068  \n",
       "25%               137.000000               88.066185   62.282399  \n",
       "50%               156.000000              107.460231   73.642034  \n",
       "75%               174.000000              123.740114   86.417593  \n",
       "max               190.000000              157.296683   99.986463  "
      ]
     },
     "execution_count": 7,
     "metadata": {},
     "output_type": "execute_result"
    }
   ],
   "source": [
    "AmbulatoryVisits.describe()"
   ]
  },
  {
   "cell_type": "code",
   "execution_count": 9,
   "id": "e3f4ed26",
   "metadata": {},
   "outputs": [],
   "source": [
    "%matplotlib inline"
   ]
  },
  {
   "cell_type": "code",
   "execution_count": 18,
   "id": "70707da6",
   "metadata": {},
   "outputs": [],
   "source": [
    "ReAdmin_df= pd.read_excel(\"HospitalDatabase.xlsx\", sheet_name= \"ReAdmissionRegistry\")\n",
    "#sns.displot(ReAdmin_df['PrimaryDiagnosis'])"
   ]
  },
  {
   "cell_type": "code",
   "execution_count": 26,
   "id": "468cabfa",
   "metadata": {},
   "outputs": [
    {
     "data": {
      "text/plain": [
       "<seaborn.axisgrid.JointGrid at 0x1dbeffa5b20>"
      ]
     },
     "execution_count": 26,
     "metadata": {},
     "output_type": "execute_result"
    },
    {
     "data": {
      "image/png": "[encoded data removed]",
      "text/plain": [
       "<Figure size 600x600 with 3 Axes>"
      ]
     },
     "metadata": {},
     "output_type": "display_data"
    }
   ],
   "source": [
    "AmbulatoryVisits =pd.read_excel(\"HospitalDatabase.xlsx\", sheet_name= \"AmbulatoryVisits\")\n",
    "sns.jointplot(data=AmbulatoryVisits, x='BloodPressureSystolic', y='BloodPressureDiastolic', kind='kde', \n",
    "              cmap='Reds', shade=True)\n",
    "             "
   ]
  },
  {
   "cell_type": "code",
   "execution_count": null,
   "id": "e2db913c",
   "metadata": {},
   "outputs": [],
   "source": []
  }
 ],
 "metadata": {
  "kernelspec": {
   "display_name": "Python 3 (ipykernel)",
   "language": "python",
   "name": "python3"
  },
  "language_info": {
   "codemirror_mode": {
    "name": "ipython",
    "version": 3
   },
   "file_extension": ".py",
   "mimetype": "text/x-python",
   "name": "python",
   "nbconvert_exporter": "python",
   "pygments_lexer": "ipython3",
   "version": "3.9.13"
  }
 },
 "nbformat": 4,
 "nbformat_minor": 5
}
