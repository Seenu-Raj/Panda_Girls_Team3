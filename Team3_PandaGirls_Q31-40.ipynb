{
 "cells": [
  {
   "cell_type": "markdown",
   "id": "5d8d2a79",
   "metadata": {},
   "source": [
    "# Python Hackathon Questions 31 to 40"
   ]
  },
  {
   "cell_type": "code",
   "execution_count": 22,
   "id": "438aaf85",
   "metadata": {},
   "outputs": [],
   "source": [
    "import pandas as pd\n",
    "import numpy as np\n",
    "import matplotlib.pyplot as plt"
   ]
  },
  {
   "cell_type": "code",
   "execution_count": 6,
   "id": "6cd7b02e",
   "metadata": {},
   "outputs": [],
   "source": [
    "Patients =pd.read_excel(\"HospitalDatabase.xlsx\", sheet_name= \"Patients\")\n",
    "EDVisits =pd.read_excel(\"HospitalDatabase.xlsx\", sheet_name= \"EDVisits\")\n",
    "AmbulatoryVisits =pd.read_excel(\"HospitalDatabase.xlsx\", sheet_name= \"AmbulatoryVisits\")\n",
    "ReAdmissionRegistry =pd.read_excel(\"HospitalDatabase.xlsx\", sheet_name= \"ReAdmissionRegistry\")\n",
    "Discharges =pd.read_excel(\"HospitalDatabase.xlsx\", sheet_name= \"Discharges\")\n",
    "Providers =pd.read_excel(\"HospitalDatabase.xlsx\", sheet_name= \"Providers\")\n",
    "EDUnique = pd.read_excel(\"HospitalDatabase.xlsx\", sheet_name= \"EDUnique\")"
   ]
  },
  {
   "cell_type": "markdown",
   "id": "e858e39b",
   "metadata": {},
   "source": [
    "# Q31: Find the count of White Spanish Male."
   ]
  },
  {
   "cell_type": "code",
   "execution_count": 8,
   "id": "3b4251be",
   "metadata": {},
   "outputs": [
    {
     "data": {
      "text/plain": [
       "15"
      ]
     },
     "execution_count": 8,
     "metadata": {},
     "output_type": "execute_result"
    }
   ],
   "source": [
    "RaceWhiteGenderMaleLanguageSpanish=(Patients['Race'].str.contains('White'))& (Patients['Gender'].str.contains('Male'))& (Patients['Language'].str.contains('Spanish'))\n",
    "len(Patients[RaceWhiteGenderMaleLanguageSpanish])"
   ]
  },
  {
   "cell_type": "markdown",
   "id": "47824dcf",
   "metadata": {},
   "source": [
    "# Q32: If patient's gender is Female, add Ms.to the name and for male patients add Mr. to the name."
   ]
  },
  {
   "cell_type": "code",
   "execution_count": 10,
   "id": "50594d51",
   "metadata": {},
   "outputs": [],
   "source": [
    "Patients['FullName']=(Patients['Gender'].str.replace('Male','Mr.').str.replace('Female','Ms.') + ' '+ Patients['FirstName']+ ' ' +Patients['LastName'])\n",
    "#Patients.head(30)"
   ]
  },
  {
   "cell_type": "markdown",
   "id": "4744a411",
   "metadata": {},
   "source": [
    "# Q33: Using a bar chart, which Service had the lowest count of Expected Mortality?"
   ]
  },
  {
   "cell_type": "code",
   "execution_count": 16,
   "id": "d83e725b",
   "metadata": {},
   "outputs": [
    {
     "ename": "NameError",
     "evalue": "name 'ReAdminService' is not defined",
     "output_type": "error",
     "traceback": [
      "\u001b[1;31m---------------------------------------------------------------------------\u001b[0m",
      "\u001b[1;31mNameError\u001b[0m                                 Traceback (most recent call last)",
      "\u001b[1;32m~\\AppData\\Local\\Temp\\ipykernel_7556\\4063077781.py\u001b[0m in \u001b[0;36m<module>\u001b[1;34m\u001b[0m\n\u001b[1;32m----> 1\u001b[1;33m \u001b[0mReAdminService\u001b[0m\u001b[1;33m.\u001b[0m\u001b[0mhead\u001b[0m\u001b[1;33m(\u001b[0m\u001b[1;36m10\u001b[0m\u001b[1;33m)\u001b[0m\u001b[1;33m\u001b[0m\u001b[1;33m\u001b[0m\u001b[0m\n\u001b[0m\u001b[0;32m      2\u001b[0m \u001b[0mReAdminService\u001b[0m \u001b[1;33m=\u001b[0m \u001b[0mpd\u001b[0m\u001b[1;33m.\u001b[0m\u001b[0mDataFrame\u001b[0m\u001b[1;33m(\u001b[0m\u001b[0mReAdminServiceGroup\u001b[0m\u001b[1;33m,\u001b[0m \u001b[0mcolumns\u001b[0m\u001b[1;33m=\u001b[0m\u001b[1;33m[\u001b[0m\u001b[1;34m'Service'\u001b[0m\u001b[1;33m,\u001b[0m \u001b[1;34m'ExpectedMortality'\u001b[0m\u001b[1;33m]\u001b[0m\u001b[1;33m)\u001b[0m\u001b[1;33m\u001b[0m\u001b[1;33m\u001b[0m\u001b[0m\n\u001b[0;32m      3\u001b[0m \u001b[0mServiceExpMortalityPlot\u001b[0m\u001b[1;33m=\u001b[0m \u001b[0mReAdminService\u001b[0m\u001b[1;33m[\u001b[0m\u001b[1;34m\"ExpectedMortality\"\u001b[0m\u001b[1;33m]\u001b[0m\u001b[1;33m.\u001b[0m\u001b[0mplot\u001b[0m\u001b[1;33m(\u001b[0m\u001b[0mkind\u001b[0m\u001b[1;33m=\u001b[0m\u001b[1;34m\"bar\"\u001b[0m\u001b[1;33m)\u001b[0m\u001b[1;33m\u001b[0m\u001b[1;33m\u001b[0m\u001b[0m\n",
      "\u001b[1;31mNameError\u001b[0m: name 'ReAdminService' is not defined"
     ]
    }
   ],
   "source": [
    "ReAdminService.head(10)\n",
    "ReAdminService = pd.DataFrame(ReAdminServiceGroup, columns=['Service', 'ExpectedMortality'])\n",
    "ServiceExpMortalityPlot= ReAdminService[\"ExpectedMortality\"].plot(kind=\"bar\")"
   ]
  },
  {
   "cell_type": "markdown",
   "id": "83fe47f6",
   "metadata": {},
   "source": [
    "# Q34:  np.arange(1,31).reshape(6,5) Find the array slicing to get the elements with values 11,12,16,17."
   ]
  },
  {
   "cell_type": "code",
   "execution_count": 23,
   "id": "d0d6f9a1",
   "metadata": {},
   "outputs": [
    {
     "name": "stdout",
     "output_type": "stream",
     "text": [
      "[11 12 16 17]\n"
     ]
    }
   ],
   "source": [
    "arr=np.arange(1,31).reshape(6,5)\n",
    "#print(arr)\n",
    "arr1=arr[2,0:2]\n",
    "arr2=arr[3,0:2]\n",
    "Newarr=np.hstack((arr1,arr2))\n",
    "print(Newarr)"
   ]
  },
  {
   "cell_type": "code",
   "execution_count": 24,
   "id": "ec19801f",
   "metadata": {},
   "outputs": [
    {
     "name": "stdout",
     "output_type": "stream",
     "text": [
      "[[11 12]\n",
      " [16 17]]\n"
     ]
    }
   ],
   "source": [
    "#New Question1... arrange above as 2D \n",
    "arr=np.arange(1,31).reshape(6,5)\n",
    "arr1=arr[2,0:2]\n",
    "arr2=arr[3,0:2]\n",
    "Newarr=np.vstack((arr1,arr2))\n",
    "print(Newarr)"
   ]
  },
  {
   "cell_type": "code",
   "execution_count": 25,
   "id": "b4dfc464",
   "metadata": {},
   "outputs": [
    {
     "name": "stdout",
     "output_type": "stream",
     "text": [
      "[[11 16]\n",
      " [12 17]]\n"
     ]
    }
   ],
   "source": [
    "#New question 2: with axis=1\n",
    "arr=np.arange(1,31).reshape(6,5)\n",
    "arr1=arr[2,0:2]\n",
    "arr2=arr[3,0:2]\n",
    "Newarr=np.stack((arr1,arr2), axis=1)\n",
    "print(Newarr)"
   ]
  },
  {
   "cell_type": "markdown",
   "id": "f438c017",
   "metadata": {},
   "source": [
    "# 35: np.arange(1,31).reshape(6,5), find array slicing for elements 2,8,14,20."
   ]
  },
  {
   "cell_type": "code",
   "execution_count": 27,
   "id": "4f3f1536",
   "metadata": {},
   "outputs": [
    {
     "name": "stdout",
     "output_type": "stream",
     "text": [
      "(2, 8, 14, 20)\n"
     ]
    }
   ],
   "source": [
    "arr=np.arange(1,31).reshape(6,5)\n",
    "Elements=(arr[0,1], arr[1,2], arr[2,3], arr[3,4])\n",
    "print(Elements)"
   ]
  },
  {
   "cell_type": "markdown",
   "id": "fb3b3453",
   "metadata": {},
   "source": [
    "# 36: Create a correlation matrix on EDVisits"
   ]
  },
  {
   "cell_type": "code",
   "execution_count": null,
   "id": "70cee9cb",
   "metadata": {},
   "outputs": [],
   "source": []
  },
  {
   "cell_type": "markdown",
   "id": "301e8101",
   "metadata": {},
   "source": [
    "# 37: Write a function to print all the upper case letter of a given sentence."
   ]
  },
  {
   "cell_type": "code",
   "execution_count": 5,
   "id": "ea1b1dd5",
   "metadata": {},
   "outputs": [
    {
     "name": "stdout",
     "output_type": "stream",
     "text": [
      "Enter any string: Home\n",
      "Uppercase characters: H\n"
     ]
    }
   ],
   "source": [
    "UpperString = input('Enter any string: ')\n",
    "\n",
    "upper = ''\n",
    "for char in UpperString:\n",
    "    if char.isupper():\n",
    "        upper += char\n",
    "\n",
    "print('Uppercase characters:', upper)"
   ]
  },
  {
   "cell_type": "markdown",
   "id": "bdcb7012",
   "metadata": {},
   "source": [
    "# 38: Number of patients on 'Transfer' based on primary diagnosis"
   ]
  },
  {
   "cell_type": "code",
   "execution_count": null,
   "id": "1002fe0e",
   "metadata": {},
   "outputs": [],
   "source": []
  }
 ],
 "metadata": {
  "kernelspec": {
   "display_name": "Python 3 (ipykernel)",
   "language": "python",
   "name": "python3"
  },
  "language_info": {
   "codemirror_mode": {
    "name": "ipython",
    "version": 3
   },
   "file_extension": ".py",
   "mimetype": "text/x-python",
   "name": "python",
   "nbconvert_exporter": "python",
   "pygments_lexer": "ipython3",
   "version": "3.9.13"
  }
 },
 "nbformat": 4,
 "nbformat_minor": 5
}
